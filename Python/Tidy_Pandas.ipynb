{
 "cells": [
  {
   "cell_type": "markdown",
   "metadata": {},
   "source": [
    "## Reordering Columns in Pandas"
   ]
  },
  {
   "cell_type": "markdown",
   "metadata": {},
   "source": [
    "Since you can't do select(column_name,everything()) in pandas...."
   ]
  },
  {
   "cell_type": "markdown",
   "metadata": {},
   "source": [
    "In this example, we reorder the column in a pandas dataframe so column c is first"
   ]
  },
  {
   "cell_type": "code",
   "execution_count": 13,
   "metadata": {},
   "outputs": [],
   "source": [
    "import pandas as pd\n",
    "# create example dataset\n",
    "example = pd.DataFrame({'a': [1,2,3],'b': [10,11,12],'c': [45,55,65]})"
   ]
  },
  {
   "cell_type": "code",
   "execution_count": 14,
   "metadata": {},
   "outputs": [
    {
     "data": {
      "text/html": [
       "<div>\n",
       "<style scoped>\n",
       "    .dataframe tbody tr th:only-of-type {\n",
       "        vertical-align: middle;\n",
       "    }\n",
       "\n",
       "    .dataframe tbody tr th {\n",
       "        vertical-align: top;\n",
       "    }\n",
       "\n",
       "    .dataframe thead th {\n",
       "        text-align: right;\n",
       "    }\n",
       "</style>\n",
       "<table border=\"1\" class=\"dataframe\">\n",
       "  <thead>\n",
       "    <tr style=\"text-align: right;\">\n",
       "      <th></th>\n",
       "      <th>a</th>\n",
       "      <th>b</th>\n",
       "      <th>c</th>\n",
       "    </tr>\n",
       "  </thead>\n",
       "  <tbody>\n",
       "    <tr>\n",
       "      <th>0</th>\n",
       "      <td>1</td>\n",
       "      <td>10</td>\n",
       "      <td>45</td>\n",
       "    </tr>\n",
       "    <tr>\n",
       "      <th>1</th>\n",
       "      <td>2</td>\n",
       "      <td>11</td>\n",
       "      <td>55</td>\n",
       "    </tr>\n",
       "    <tr>\n",
       "      <th>2</th>\n",
       "      <td>3</td>\n",
       "      <td>12</td>\n",
       "      <td>65</td>\n",
       "    </tr>\n",
       "  </tbody>\n",
       "</table>\n",
       "</div>"
      ],
      "text/plain": [
       "   a   b   c\n",
       "0  1  10  45\n",
       "1  2  11  55\n",
       "2  3  12  65"
      ]
     },
     "execution_count": 14,
     "metadata": {},
     "output_type": "execute_result"
    }
   ],
   "source": [
    "example"
   ]
  },
  {
   "cell_type": "code",
   "execution_count": 15,
   "metadata": {},
   "outputs": [],
   "source": [
    "# Grab column names, remove a column name, and insert that column name at the beginning\n",
    "col_names = example.columns.tolist()\n",
    "col_names.remove('c')\n",
    "\n",
    "# Note - if you want to move column c to another position, you can specify a different index\n",
    "# you can anchor the column on another column by using col_names.index() to extract \n",
    "# the index of another column\n",
    "\n",
    "col_names.insert(0,'c')\n",
    "# Use the reordered column names to reindex this dataset\n",
    "example = example.reindex(columns=col_names)"
   ]
  },
  {
   "cell_type": "code",
   "execution_count": 16,
   "metadata": {},
   "outputs": [
    {
     "data": {
      "text/html": [
       "<div>\n",
       "<style scoped>\n",
       "    .dataframe tbody tr th:only-of-type {\n",
       "        vertical-align: middle;\n",
       "    }\n",
       "\n",
       "    .dataframe tbody tr th {\n",
       "        vertical-align: top;\n",
       "    }\n",
       "\n",
       "    .dataframe thead th {\n",
       "        text-align: right;\n",
       "    }\n",
       "</style>\n",
       "<table border=\"1\" class=\"dataframe\">\n",
       "  <thead>\n",
       "    <tr style=\"text-align: right;\">\n",
       "      <th></th>\n",
       "      <th>c</th>\n",
       "      <th>a</th>\n",
       "      <th>b</th>\n",
       "    </tr>\n",
       "  </thead>\n",
       "  <tbody>\n",
       "    <tr>\n",
       "      <th>0</th>\n",
       "      <td>45</td>\n",
       "      <td>1</td>\n",
       "      <td>10</td>\n",
       "    </tr>\n",
       "    <tr>\n",
       "      <th>1</th>\n",
       "      <td>55</td>\n",
       "      <td>2</td>\n",
       "      <td>11</td>\n",
       "    </tr>\n",
       "    <tr>\n",
       "      <th>2</th>\n",
       "      <td>65</td>\n",
       "      <td>3</td>\n",
       "      <td>12</td>\n",
       "    </tr>\n",
       "  </tbody>\n",
       "</table>\n",
       "</div>"
      ],
      "text/plain": [
       "    c  a   b\n",
       "0  45  1  10\n",
       "1  55  2  11\n",
       "2  65  3  12"
      ]
     },
     "execution_count": 16,
     "metadata": {},
     "output_type": "execute_result"
    }
   ],
   "source": [
    "example"
   ]
  },
  {
   "cell_type": "markdown",
   "metadata": {},
   "source": [
    "## Frequency Counts"
   ]
  },
  {
   "cell_type": "markdown",
   "metadata": {},
   "source": [
    "The purpose of this function is to count the values or combination of values in an entire dataset or a subselection of the columns in a dataset. I have created this function because I couldn't find a pandas function that can count both missing and non-missing values while also looking at a combination of values (multiple columns)"
   ]
  },
  {
   "cell_type": "code",
   "execution_count": 68,
   "metadata": {},
   "outputs": [],
   "source": [
    "import random\n",
    "import string\n",
    "import numpy as np\n",
    "from IPython.display import display\n",
    "\n",
    "# column names (optional) defined as string or list of strings\n",
    "# Returns frequency table that includes missing values for df\n",
    "def tidy_count(df,columns=None,count_col='n',return_df=False,n=None):\n",
    "    # subset df by columns if specified\n",
    "    if columns != None:\n",
    "        if type(columns) != list:\n",
    "            columns = [columns]\n",
    "        df = df[columns]\n",
    "        \n",
    "    col_vals = df.columns.values # all column values\n",
    "        \n",
    "    # Find all distinct values in the dataset for both data values\n",
    "    # and column names, store in the list allvals\n",
    "    pds_allvals = pd.Series(col_vals) \n",
    "    for col in col_vals:\n",
    "        pds_allvals = pd.concat([pds_allvals,df[str(col)]]).drop_duplicates()\n",
    "    allvals = pds_allvals.tolist()\n",
    "    #print(allvals)\n",
    "    \n",
    "    filler_val=None\n",
    "    # generate a random string for filler_val until it is \n",
    "    # not something that occurs in our data\n",
    "    loop_iters=1\n",
    "    while filler_val == None or filler_val in allvals:\n",
    "        filler_val = ''.join(random.choices(string.digits + string.ascii_letters, k=np.random.randint(4,12)))  \n",
    "        loop_iters += 1\n",
    "        if loop_iters > 8:\n",
    "            print('Error: Cannot find unique string to fill NA values.')\n",
    "            break\n",
    "    #print(filler_val)\n",
    "    \n",
    "    # reset count column name until it is unique among column names\n",
    "    loop_iters=1\n",
    "    while count_col in col_vals:\n",
    "        if count_col == 'n':\n",
    "            count_col = count_col + 'n'\n",
    "        else:\n",
    "            count_col = count_col + '_'\n",
    "        \n",
    "        if loop_iters > 8:\n",
    "            print('Error: Cannot find unique string for counter column.')\n",
    "            break    \n",
    "        loop_iters += 1\n",
    "\n",
    "    freq_table = df.fillna(filler_val).groupby([str(x) for x in col_vals]).size().\\\n",
    "            reset_index(name=count_col).\\\n",
    "         replace(filler_val,np.NaN).sort_values(count_col,ascending=False)\n",
    "    \n",
    "    freq_table['percent'] = freq_table[count_col] / sum(freq_table[count_col])\n",
    "    \n",
    "    # limit frequency table to first n rows if specified\n",
    "    if n != None:\n",
    "        freq_table = freq_table.head(n)\n",
    "    \n",
    "    # Formatted pandas display for jupyter notebooks\n",
    "    df_display = display(freq_table.style.hide_index().\\\n",
    "                format({'n': '{:,}','percent': '{0:.1%}'}))\n",
    "    \n",
    "    if return_df == False:\n",
    "        df_display\n",
    "    else:\n",
    "        df_display\n",
    "        return(freq_table)"
   ]
  },
  {
   "cell_type": "markdown",
   "metadata": {},
   "source": [
    "## Test"
   ]
  },
  {
   "cell_type": "code",
   "execution_count": 69,
   "metadata": {},
   "outputs": [],
   "source": [
    "car_names = pd.DataFrame({'name' : ['Batmobile','Toyota Corolla','Bike','Bike','Batmobile'],\n",
    "            'hp': [1000,120,np.nan,np.nan,900]})\n",
    "car_attr = pd.DataFrame({\"name\": [\"Bike\",\"Toyota Corolla\"], \"color\": [\"blue\",\"red\"]})\n",
    "cars = car_names.merge(car_attr,how='left',on='name')"
   ]
  },
  {
   "cell_type": "code",
   "execution_count": 11,
   "metadata": {},
   "outputs": [
    {
     "data": {
      "text/html": [
       "<style  type=\"text/css\" >\n",
       "</style><table id=\"T_c11f69cc_a701_11e9_b7a5_acde48001122\" ><thead>    <tr>        <th class=\"col_heading level0 col0\" >name</th>        <th class=\"col_heading level0 col1\" >hp</th>        <th class=\"col_heading level0 col2\" >color</th>        <th class=\"col_heading level0 col3\" >n</th>        <th class=\"col_heading level0 col4\" >percent</th>    </tr></thead><tbody>\n",
       "                <tr>\n",
       "                                <td id=\"T_c11f69cc_a701_11e9_b7a5_acde48001122row0_col0\" class=\"data row0 col0\" >Bike</td>\n",
       "                        <td id=\"T_c11f69cc_a701_11e9_b7a5_acde48001122row0_col1\" class=\"data row0 col1\" >nan</td>\n",
       "                        <td id=\"T_c11f69cc_a701_11e9_b7a5_acde48001122row0_col2\" class=\"data row0 col2\" >blue</td>\n",
       "                        <td id=\"T_c11f69cc_a701_11e9_b7a5_acde48001122row0_col3\" class=\"data row0 col3\" >2</td>\n",
       "                        <td id=\"T_c11f69cc_a701_11e9_b7a5_acde48001122row0_col4\" class=\"data row0 col4\" >40.0%</td>\n",
       "            </tr>\n",
       "            <tr>\n",
       "                                <td id=\"T_c11f69cc_a701_11e9_b7a5_acde48001122row1_col0\" class=\"data row1 col0\" >Batmobile</td>\n",
       "                        <td id=\"T_c11f69cc_a701_11e9_b7a5_acde48001122row1_col1\" class=\"data row1 col1\" >900</td>\n",
       "                        <td id=\"T_c11f69cc_a701_11e9_b7a5_acde48001122row1_col2\" class=\"data row1 col2\" >nan</td>\n",
       "                        <td id=\"T_c11f69cc_a701_11e9_b7a5_acde48001122row1_col3\" class=\"data row1 col3\" >1</td>\n",
       "                        <td id=\"T_c11f69cc_a701_11e9_b7a5_acde48001122row1_col4\" class=\"data row1 col4\" >20.0%</td>\n",
       "            </tr>\n",
       "            <tr>\n",
       "                                <td id=\"T_c11f69cc_a701_11e9_b7a5_acde48001122row2_col0\" class=\"data row2 col0\" >Batmobile</td>\n",
       "                        <td id=\"T_c11f69cc_a701_11e9_b7a5_acde48001122row2_col1\" class=\"data row2 col1\" >1000</td>\n",
       "                        <td id=\"T_c11f69cc_a701_11e9_b7a5_acde48001122row2_col2\" class=\"data row2 col2\" >nan</td>\n",
       "                        <td id=\"T_c11f69cc_a701_11e9_b7a5_acde48001122row2_col3\" class=\"data row2 col3\" >1</td>\n",
       "                        <td id=\"T_c11f69cc_a701_11e9_b7a5_acde48001122row2_col4\" class=\"data row2 col4\" >20.0%</td>\n",
       "            </tr>\n",
       "            <tr>\n",
       "                                <td id=\"T_c11f69cc_a701_11e9_b7a5_acde48001122row3_col0\" class=\"data row3 col0\" >Toyota Corolla</td>\n",
       "                        <td id=\"T_c11f69cc_a701_11e9_b7a5_acde48001122row3_col1\" class=\"data row3 col1\" >120</td>\n",
       "                        <td id=\"T_c11f69cc_a701_11e9_b7a5_acde48001122row3_col2\" class=\"data row3 col2\" >red</td>\n",
       "                        <td id=\"T_c11f69cc_a701_11e9_b7a5_acde48001122row3_col3\" class=\"data row3 col3\" >1</td>\n",
       "                        <td id=\"T_c11f69cc_a701_11e9_b7a5_acde48001122row3_col4\" class=\"data row3 col4\" >20.0%</td>\n",
       "            </tr>\n",
       "    </tbody></table>"
      ],
      "text/plain": [
       "<pandas.io.formats.style.Styler at 0x10f6b6ef0>"
      ]
     },
     "metadata": {},
     "output_type": "display_data"
    }
   ],
   "source": [
    "a = tidy_count(cars,return_df=True)"
   ]
  },
  {
   "cell_type": "code",
   "execution_count": 5,
   "metadata": {},
   "outputs": [
    {
     "data": {
      "text/html": [
       "<div>\n",
       "<style scoped>\n",
       "    .dataframe tbody tr th:only-of-type {\n",
       "        vertical-align: middle;\n",
       "    }\n",
       "\n",
       "    .dataframe tbody tr th {\n",
       "        vertical-align: top;\n",
       "    }\n",
       "\n",
       "    .dataframe thead th {\n",
       "        text-align: right;\n",
       "    }\n",
       "</style>\n",
       "<table border=\"1\" class=\"dataframe\">\n",
       "  <thead>\n",
       "    <tr style=\"text-align: right;\">\n",
       "      <th></th>\n",
       "      <th>name</th>\n",
       "      <th>hp</th>\n",
       "      <th>color</th>\n",
       "      <th>n</th>\n",
       "      <th>percent</th>\n",
       "    </tr>\n",
       "  </thead>\n",
       "  <tbody>\n",
       "    <tr>\n",
       "      <th>2</th>\n",
       "      <td>Bike</td>\n",
       "      <td>NaN</td>\n",
       "      <td>blue</td>\n",
       "      <td>2</td>\n",
       "      <td>0.4</td>\n",
       "    </tr>\n",
       "    <tr>\n",
       "      <th>0</th>\n",
       "      <td>Batmobile</td>\n",
       "      <td>900.0</td>\n",
       "      <td>NaN</td>\n",
       "      <td>1</td>\n",
       "      <td>0.2</td>\n",
       "    </tr>\n",
       "    <tr>\n",
       "      <th>1</th>\n",
       "      <td>Batmobile</td>\n",
       "      <td>1000.0</td>\n",
       "      <td>NaN</td>\n",
       "      <td>1</td>\n",
       "      <td>0.2</td>\n",
       "    </tr>\n",
       "    <tr>\n",
       "      <th>3</th>\n",
       "      <td>Toyota Corolla</td>\n",
       "      <td>120.0</td>\n",
       "      <td>red</td>\n",
       "      <td>1</td>\n",
       "      <td>0.2</td>\n",
       "    </tr>\n",
       "  </tbody>\n",
       "</table>\n",
       "</div>"
      ],
      "text/plain": [
       "             name      hp color  n  percent\n",
       "2            Bike     NaN  blue  2      0.4\n",
       "0       Batmobile   900.0   NaN  1      0.2\n",
       "1       Batmobile  1000.0   NaN  1      0.2\n",
       "3  Toyota Corolla   120.0   red  1      0.2"
      ]
     },
     "execution_count": 5,
     "metadata": {},
     "output_type": "execute_result"
    }
   ],
   "source": [
    "a"
   ]
  },
  {
   "cell_type": "code",
   "execution_count": 10,
   "metadata": {},
   "outputs": [
    {
     "data": {
      "text/html": [
       "<style  type=\"text/css\" >\n",
       "</style><table id=\"T_bed65d88_a701_11e9_b7a5_acde48001122\" ><thead>    <tr>        <th class=\"col_heading level0 col0\" >hp</th>        <th class=\"col_heading level0 col1\" >color</th>        <th class=\"col_heading level0 col2\" >n</th>        <th class=\"col_heading level0 col3\" >percent</th>    </tr></thead><tbody>\n",
       "                <tr>\n",
       "                                <td id=\"T_bed65d88_a701_11e9_b7a5_acde48001122row0_col0\" class=\"data row0 col0\" >nan</td>\n",
       "                        <td id=\"T_bed65d88_a701_11e9_b7a5_acde48001122row0_col1\" class=\"data row0 col1\" >blue</td>\n",
       "                        <td id=\"T_bed65d88_a701_11e9_b7a5_acde48001122row0_col2\" class=\"data row0 col2\" >2</td>\n",
       "                        <td id=\"T_bed65d88_a701_11e9_b7a5_acde48001122row0_col3\" class=\"data row0 col3\" >40.0%</td>\n",
       "            </tr>\n",
       "            <tr>\n",
       "                                <td id=\"T_bed65d88_a701_11e9_b7a5_acde48001122row1_col0\" class=\"data row1 col0\" >120</td>\n",
       "                        <td id=\"T_bed65d88_a701_11e9_b7a5_acde48001122row1_col1\" class=\"data row1 col1\" >red</td>\n",
       "                        <td id=\"T_bed65d88_a701_11e9_b7a5_acde48001122row1_col2\" class=\"data row1 col2\" >1</td>\n",
       "                        <td id=\"T_bed65d88_a701_11e9_b7a5_acde48001122row1_col3\" class=\"data row1 col3\" >20.0%</td>\n",
       "            </tr>\n",
       "            <tr>\n",
       "                                <td id=\"T_bed65d88_a701_11e9_b7a5_acde48001122row2_col0\" class=\"data row2 col0\" >900</td>\n",
       "                        <td id=\"T_bed65d88_a701_11e9_b7a5_acde48001122row2_col1\" class=\"data row2 col1\" >nan</td>\n",
       "                        <td id=\"T_bed65d88_a701_11e9_b7a5_acde48001122row2_col2\" class=\"data row2 col2\" >1</td>\n",
       "                        <td id=\"T_bed65d88_a701_11e9_b7a5_acde48001122row2_col3\" class=\"data row2 col3\" >20.0%</td>\n",
       "            </tr>\n",
       "            <tr>\n",
       "                                <td id=\"T_bed65d88_a701_11e9_b7a5_acde48001122row3_col0\" class=\"data row3 col0\" >1000</td>\n",
       "                        <td id=\"T_bed65d88_a701_11e9_b7a5_acde48001122row3_col1\" class=\"data row3 col1\" >nan</td>\n",
       "                        <td id=\"T_bed65d88_a701_11e9_b7a5_acde48001122row3_col2\" class=\"data row3 col2\" >1</td>\n",
       "                        <td id=\"T_bed65d88_a701_11e9_b7a5_acde48001122row3_col3\" class=\"data row3 col3\" >20.0%</td>\n",
       "            </tr>\n",
       "    </tbody></table>"
      ],
      "text/plain": [
       "<pandas.io.formats.style.Styler at 0x11f028c50>"
      ]
     },
     "metadata": {},
     "output_type": "display_data"
    }
   ],
   "source": [
    "tidy_count(cars,['hp','color'])"
   ]
  },
  {
   "cell_type": "code",
   "execution_count": 14,
   "metadata": {},
   "outputs": [
    {
     "data": {
      "text/html": [
       "<style  type=\"text/css\" >\n",
       "</style><table id=\"T_21e573fa_a702_11e9_b7a5_acde48001122\" ><thead>    <tr>        <th class=\"col_heading level0 col0\" >name</th>        <th class=\"col_heading level0 col1\" >hp</th>        <th class=\"col_heading level0 col2\" >color</th>        <th class=\"col_heading level0 col3\" >n</th>        <th class=\"col_heading level0 col4\" >percent</th>    </tr></thead><tbody>\n",
       "                <tr>\n",
       "                                <td id=\"T_21e573fa_a702_11e9_b7a5_acde48001122row0_col0\" class=\"data row0 col0\" >Bike</td>\n",
       "                        <td id=\"T_21e573fa_a702_11e9_b7a5_acde48001122row0_col1\" class=\"data row0 col1\" >nan</td>\n",
       "                        <td id=\"T_21e573fa_a702_11e9_b7a5_acde48001122row0_col2\" class=\"data row0 col2\" >blue</td>\n",
       "                        <td id=\"T_21e573fa_a702_11e9_b7a5_acde48001122row0_col3\" class=\"data row0 col3\" >2</td>\n",
       "                        <td id=\"T_21e573fa_a702_11e9_b7a5_acde48001122row0_col4\" class=\"data row0 col4\" >40.0%</td>\n",
       "            </tr>\n",
       "            <tr>\n",
       "                                <td id=\"T_21e573fa_a702_11e9_b7a5_acde48001122row1_col0\" class=\"data row1 col0\" >Batmobile</td>\n",
       "                        <td id=\"T_21e573fa_a702_11e9_b7a5_acde48001122row1_col1\" class=\"data row1 col1\" >900</td>\n",
       "                        <td id=\"T_21e573fa_a702_11e9_b7a5_acde48001122row1_col2\" class=\"data row1 col2\" >nan</td>\n",
       "                        <td id=\"T_21e573fa_a702_11e9_b7a5_acde48001122row1_col3\" class=\"data row1 col3\" >1</td>\n",
       "                        <td id=\"T_21e573fa_a702_11e9_b7a5_acde48001122row1_col4\" class=\"data row1 col4\" >20.0%</td>\n",
       "            </tr>\n",
       "            <tr>\n",
       "                                <td id=\"T_21e573fa_a702_11e9_b7a5_acde48001122row2_col0\" class=\"data row2 col0\" >Batmobile</td>\n",
       "                        <td id=\"T_21e573fa_a702_11e9_b7a5_acde48001122row2_col1\" class=\"data row2 col1\" >1000</td>\n",
       "                        <td id=\"T_21e573fa_a702_11e9_b7a5_acde48001122row2_col2\" class=\"data row2 col2\" >nan</td>\n",
       "                        <td id=\"T_21e573fa_a702_11e9_b7a5_acde48001122row2_col3\" class=\"data row2 col3\" >1</td>\n",
       "                        <td id=\"T_21e573fa_a702_11e9_b7a5_acde48001122row2_col4\" class=\"data row2 col4\" >20.0%</td>\n",
       "            </tr>\n",
       "            <tr>\n",
       "                                <td id=\"T_21e573fa_a702_11e9_b7a5_acde48001122row3_col0\" class=\"data row3 col0\" >Toyota Corolla</td>\n",
       "                        <td id=\"T_21e573fa_a702_11e9_b7a5_acde48001122row3_col1\" class=\"data row3 col1\" >120</td>\n",
       "                        <td id=\"T_21e573fa_a702_11e9_b7a5_acde48001122row3_col2\" class=\"data row3 col2\" >red</td>\n",
       "                        <td id=\"T_21e573fa_a702_11e9_b7a5_acde48001122row3_col3\" class=\"data row3 col3\" >1</td>\n",
       "                        <td id=\"T_21e573fa_a702_11e9_b7a5_acde48001122row3_col4\" class=\"data row3 col4\" >20.0%</td>\n",
       "            </tr>\n",
       "    </tbody></table>"
      ],
      "text/plain": [
       "<pandas.io.formats.style.Styler at 0x10f6c6518>"
      ]
     },
     "metadata": {},
     "output_type": "display_data"
    }
   ],
   "source": [
    "tidy_count(cars)"
   ]
  },
  {
   "cell_type": "markdown",
   "metadata": {},
   "source": [
    "## Bigger Frequency Counts"
   ]
  },
  {
   "cell_type": "code",
   "execution_count": 48,
   "metadata": {},
   "outputs": [],
   "source": [
    "import seaborn as sns\n",
    "import numpy as np\n",
    "planets = sns.load_dataset(\"planets\")"
   ]
  },
  {
   "cell_type": "code",
   "execution_count": 79,
   "metadata": {},
   "outputs": [],
   "source": [
    "import numpy as np\n",
    "planets_method = planets.sample(frac=.40,random_state=42)\n",
    "planets_year = planets.sample(frac=.20,random_state=84)\n",
    "planets_method['method'] = np.nan\n",
    "planets_year['year'] = np.nan\n",
    "\n",
    "planets_combi = pd.concat([planets.\\\n",
    "                    drop(planets_method.index.union(planets_year.index)),\n",
    "                          planets_method,planets_year]).sort_index()"
   ]
  },
  {
   "cell_type": "code",
   "execution_count": 80,
   "metadata": {},
   "outputs": [
    {
     "data": {
      "text/html": [
       "<div>\n",
       "<style scoped>\n",
       "    .dataframe tbody tr th:only-of-type {\n",
       "        vertical-align: middle;\n",
       "    }\n",
       "\n",
       "    .dataframe tbody tr th {\n",
       "        vertical-align: top;\n",
       "    }\n",
       "\n",
       "    .dataframe thead th {\n",
       "        text-align: right;\n",
       "    }\n",
       "</style>\n",
       "<table border=\"1\" class=\"dataframe\">\n",
       "  <thead>\n",
       "    <tr style=\"text-align: right;\">\n",
       "      <th></th>\n",
       "      <th>method</th>\n",
       "      <th>number</th>\n",
       "      <th>orbital_period</th>\n",
       "      <th>mass</th>\n",
       "      <th>distance</th>\n",
       "      <th>year</th>\n",
       "    </tr>\n",
       "  </thead>\n",
       "  <tbody>\n",
       "    <tr>\n",
       "      <th>573</th>\n",
       "      <td>Radial Velocity</td>\n",
       "      <td>2</td>\n",
       "      <td>613.80000</td>\n",
       "      <td>1.8500</td>\n",
       "      <td>68.35</td>\n",
       "      <td>2010.0</td>\n",
       "    </tr>\n",
       "    <tr>\n",
       "      <th>318</th>\n",
       "      <td>NaN</td>\n",
       "      <td>2</td>\n",
       "      <td>18.35700</td>\n",
       "      <td>0.0390</td>\n",
       "      <td>52.03</td>\n",
       "      <td>2013.0</td>\n",
       "    </tr>\n",
       "    <tr>\n",
       "      <th>834</th>\n",
       "      <td>Transit</td>\n",
       "      <td>2</td>\n",
       "      <td>2.58664</td>\n",
       "      <td>NaN</td>\n",
       "      <td>NaN</td>\n",
       "      <td>NaN</td>\n",
       "    </tr>\n",
       "    <tr>\n",
       "      <th>821</th>\n",
       "      <td>Transit</td>\n",
       "      <td>7</td>\n",
       "      <td>91.93913</td>\n",
       "      <td>NaN</td>\n",
       "      <td>780.00</td>\n",
       "      <td>2013.0</td>\n",
       "    </tr>\n",
       "    <tr>\n",
       "      <th>560</th>\n",
       "      <td>Radial Velocity</td>\n",
       "      <td>2</td>\n",
       "      <td>2891.00000</td>\n",
       "      <td>1.5020</td>\n",
       "      <td>15.89</td>\n",
       "      <td>2003.0</td>\n",
       "    </tr>\n",
       "    <tr>\n",
       "      <th>562</th>\n",
       "      <td>Radial Velocity</td>\n",
       "      <td>1</td>\n",
       "      <td>1038.10000</td>\n",
       "      <td>1.9000</td>\n",
       "      <td>54.23</td>\n",
       "      <td>2007.0</td>\n",
       "    </tr>\n",
       "    <tr>\n",
       "      <th>29</th>\n",
       "      <td>NaN</td>\n",
       "      <td>1</td>\n",
       "      <td>NaN</td>\n",
       "      <td>NaN</td>\n",
       "      <td>45.52</td>\n",
       "      <td>2005.0</td>\n",
       "    </tr>\n",
       "    <tr>\n",
       "      <th>451</th>\n",
       "      <td>NaN</td>\n",
       "      <td>3</td>\n",
       "      <td>559.40000</td>\n",
       "      <td>3.0000</td>\n",
       "      <td>52.83</td>\n",
       "      <td>2007.0</td>\n",
       "    </tr>\n",
       "    <tr>\n",
       "      <th>309</th>\n",
       "      <td>NaN</td>\n",
       "      <td>6</td>\n",
       "      <td>4.31230</td>\n",
       "      <td>0.0126</td>\n",
       "      <td>12.83</td>\n",
       "      <td>2008.0</td>\n",
       "    </tr>\n",
       "    <tr>\n",
       "      <th>82</th>\n",
       "      <td>NaN</td>\n",
       "      <td>2</td>\n",
       "      <td>125.94000</td>\n",
       "      <td>0.1700</td>\n",
       "      <td>20.10</td>\n",
       "      <td>2013.0</td>\n",
       "    </tr>\n",
       "  </tbody>\n",
       "</table>\n",
       "</div>"
      ],
      "text/plain": [
       "              method  number  orbital_period    mass  distance    year\n",
       "573  Radial Velocity       2       613.80000  1.8500     68.35  2010.0\n",
       "318              NaN       2        18.35700  0.0390     52.03  2013.0\n",
       "834          Transit       2         2.58664     NaN       NaN     NaN\n",
       "821          Transit       7        91.93913     NaN    780.00  2013.0\n",
       "560  Radial Velocity       2      2891.00000  1.5020     15.89  2003.0\n",
       "562  Radial Velocity       1      1038.10000  1.9000     54.23  2007.0\n",
       "29               NaN       1             NaN     NaN     45.52  2005.0\n",
       "451              NaN       3       559.40000  3.0000     52.83  2007.0\n",
       "309              NaN       6         4.31230  0.0126     12.83  2008.0\n",
       "82               NaN       2       125.94000  0.1700     20.10  2013.0"
      ]
     },
     "execution_count": 80,
     "metadata": {},
     "output_type": "execute_result"
    }
   ],
   "source": [
    "planets_combi.sample(10)"
   ]
  },
  {
   "cell_type": "code",
   "execution_count": 84,
   "metadata": {},
   "outputs": [
    {
     "data": {
      "text/html": [
       "<style  type=\"text/css\" >\n",
       "</style><table id=\"T_7e01214c_a708_11e9_b7a5_acde48001122\" ><thead>    <tr>        <th class=\"col_heading level0 col0\" >method</th>        <th class=\"col_heading level0 col1\" >year</th>        <th class=\"col_heading level0 col2\" >n</th>        <th class=\"col_heading level0 col3\" >percent</th>    </tr></thead><tbody>\n",
       "                <tr>\n",
       "                                <td id=\"T_7e01214c_a708_11e9_b7a5_acde48001122row0_col0\" class=\"data row0 col0\" >Radial Velocity</td>\n",
       "                        <td id=\"T_7e01214c_a708_11e9_b7a5_acde48001122row0_col1\" class=\"data row0 col1\" >nan</td>\n",
       "                        <td id=\"T_7e01214c_a708_11e9_b7a5_acde48001122row0_col2\" class=\"data row0 col2\" >104</td>\n",
       "                        <td id=\"T_7e01214c_a708_11e9_b7a5_acde48001122row0_col3\" class=\"data row0 col3\" >9.2%</td>\n",
       "            </tr>\n",
       "            <tr>\n",
       "                                <td id=\"T_7e01214c_a708_11e9_b7a5_acde48001122row1_col0\" class=\"data row1 col0\" >Transit</td>\n",
       "                        <td id=\"T_7e01214c_a708_11e9_b7a5_acde48001122row1_col1\" class=\"data row1 col1\" >nan</td>\n",
       "                        <td id=\"T_7e01214c_a708_11e9_b7a5_acde48001122row1_col2\" class=\"data row1 col2\" >82</td>\n",
       "                        <td id=\"T_7e01214c_a708_11e9_b7a5_acde48001122row1_col3\" class=\"data row1 col3\" >7.3%</td>\n",
       "            </tr>\n",
       "            <tr>\n",
       "                                <td id=\"T_7e01214c_a708_11e9_b7a5_acde48001122row2_col0\" class=\"data row2 col0\" >nan</td>\n",
       "                        <td id=\"T_7e01214c_a708_11e9_b7a5_acde48001122row2_col1\" class=\"data row2 col1\" >2011</td>\n",
       "                        <td id=\"T_7e01214c_a708_11e9_b7a5_acde48001122row2_col2\" class=\"data row2 col2\" >70</td>\n",
       "                        <td id=\"T_7e01214c_a708_11e9_b7a5_acde48001122row2_col3\" class=\"data row2 col3\" >6.2%</td>\n",
       "            </tr>\n",
       "            <tr>\n",
       "                                <td id=\"T_7e01214c_a708_11e9_b7a5_acde48001122row3_col0\" class=\"data row3 col0\" >Transit</td>\n",
       "                        <td id=\"T_7e01214c_a708_11e9_b7a5_acde48001122row3_col1\" class=\"data row3 col1\" >2012</td>\n",
       "                        <td id=\"T_7e01214c_a708_11e9_b7a5_acde48001122row3_col2\" class=\"data row3 col2\" >56</td>\n",
       "                        <td id=\"T_7e01214c_a708_11e9_b7a5_acde48001122row3_col3\" class=\"data row3 col3\" >5.0%</td>\n",
       "            </tr>\n",
       "            <tr>\n",
       "                                <td id=\"T_7e01214c_a708_11e9_b7a5_acde48001122row4_col0\" class=\"data row4 col0\" >Radial Velocity</td>\n",
       "                        <td id=\"T_7e01214c_a708_11e9_b7a5_acde48001122row4_col1\" class=\"data row4 col1\" >2011</td>\n",
       "                        <td id=\"T_7e01214c_a708_11e9_b7a5_acde48001122row4_col2\" class=\"data row4 col2\" >52</td>\n",
       "                        <td id=\"T_7e01214c_a708_11e9_b7a5_acde48001122row4_col3\" class=\"data row4 col3\" >4.6%</td>\n",
       "            </tr>\n",
       "            <tr>\n",
       "                                <td id=\"T_7e01214c_a708_11e9_b7a5_acde48001122row5_col0\" class=\"data row5 col0\" >nan</td>\n",
       "                        <td id=\"T_7e01214c_a708_11e9_b7a5_acde48001122row5_col1\" class=\"data row5 col1\" >2013</td>\n",
       "                        <td id=\"T_7e01214c_a708_11e9_b7a5_acde48001122row5_col2\" class=\"data row5 col2\" >48</td>\n",
       "                        <td id=\"T_7e01214c_a708_11e9_b7a5_acde48001122row5_col3\" class=\"data row5 col3\" >4.3%</td>\n",
       "            </tr>\n",
       "            <tr>\n",
       "                                <td id=\"T_7e01214c_a708_11e9_b7a5_acde48001122row6_col0\" class=\"data row6 col0\" >nan</td>\n",
       "                        <td id=\"T_7e01214c_a708_11e9_b7a5_acde48001122row6_col1\" class=\"data row6 col1\" >2010</td>\n",
       "                        <td id=\"T_7e01214c_a708_11e9_b7a5_acde48001122row6_col2\" class=\"data row6 col2\" >47</td>\n",
       "                        <td id=\"T_7e01214c_a708_11e9_b7a5_acde48001122row6_col3\" class=\"data row6 col3\" >4.2%</td>\n",
       "            </tr>\n",
       "            <tr>\n",
       "                                <td id=\"T_7e01214c_a708_11e9_b7a5_acde48001122row7_col0\" class=\"data row7 col0\" >nan</td>\n",
       "                        <td id=\"T_7e01214c_a708_11e9_b7a5_acde48001122row7_col1\" class=\"data row7 col1\" >2012</td>\n",
       "                        <td id=\"T_7e01214c_a708_11e9_b7a5_acde48001122row7_col2\" class=\"data row7 col2\" >46</td>\n",
       "                        <td id=\"T_7e01214c_a708_11e9_b7a5_acde48001122row7_col3\" class=\"data row7 col3\" >4.1%</td>\n",
       "            </tr>\n",
       "            <tr>\n",
       "                                <td id=\"T_7e01214c_a708_11e9_b7a5_acde48001122row8_col0\" class=\"data row8 col0\" >Transit</td>\n",
       "                        <td id=\"T_7e01214c_a708_11e9_b7a5_acde48001122row8_col1\" class=\"data row8 col1\" >2013</td>\n",
       "                        <td id=\"T_7e01214c_a708_11e9_b7a5_acde48001122row8_col2\" class=\"data row8 col2\" >40</td>\n",
       "                        <td id=\"T_7e01214c_a708_11e9_b7a5_acde48001122row8_col3\" class=\"data row8 col3\" >3.6%</td>\n",
       "            </tr>\n",
       "            <tr>\n",
       "                                <td id=\"T_7e01214c_a708_11e9_b7a5_acde48001122row9_col0\" class=\"data row9 col0\" >Radial Velocity</td>\n",
       "                        <td id=\"T_7e01214c_a708_11e9_b7a5_acde48001122row9_col1\" class=\"data row9 col1\" >2009</td>\n",
       "                        <td id=\"T_7e01214c_a708_11e9_b7a5_acde48001122row9_col2\" class=\"data row9 col2\" >38</td>\n",
       "                        <td id=\"T_7e01214c_a708_11e9_b7a5_acde48001122row9_col3\" class=\"data row9 col3\" >3.4%</td>\n",
       "            </tr>\n",
       "    </tbody></table>"
      ],
      "text/plain": [
       "<pandas.io.formats.style.Styler at 0x1a210b4198>"
      ]
     },
     "metadata": {},
     "output_type": "display_data"
    }
   ],
   "source": [
    "tidy_count(planets_combi,['method','year'],n=10)"
   ]
  },
  {
   "cell_type": "code",
   "execution_count": null,
   "metadata": {},
   "outputs": [],
   "source": []
  }
 ],
 "metadata": {
  "kernelspec": {
   "display_name": "Python 3",
   "language": "python",
   "name": "python3"
  },
  "language_info": {
   "codemirror_mode": {
    "name": "ipython",
    "version": 3
   },
   "file_extension": ".py",
   "mimetype": "text/x-python",
   "name": "python",
   "nbconvert_exporter": "python",
   "pygments_lexer": "ipython3",
   "version": "3.7.7"
  }
 },
 "nbformat": 4,
 "nbformat_minor": 4
}
