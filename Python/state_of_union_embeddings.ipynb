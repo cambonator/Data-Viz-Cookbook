{
 "cells": [
  {
   "cell_type": "markdown",
   "metadata": {},
   "source": [
    "Analyze state of the union addresses. \n",
    "Data source: https://en.wikisource.org/wiki/Portal:State_of_the_Union_Speeches_by_United_States_Presidents\n",
    "\n",
    "Find similar or dissimilar speeches using word embeddings"
   ]
  },
  {
   "cell_type": "markdown",
   "metadata": {},
   "source": [
    "https://nlp.stanford.edu/IR-book/html/htmledition/sublinear-tf-scaling-1.html \n",
    "https://www.oreilly.com/library/view/applied-text-analysis/9781491963036/ch04.html "
   ]
  },
  {
   "cell_type": "markdown",
   "metadata": {},
   "source": [
    "## Setup"
   ]
  },
  {
   "cell_type": "code",
   "execution_count": 14,
   "metadata": {},
   "outputs": [],
   "source": [
    "from bs4 import BeautifulSoup\n",
    "import requests\n",
    "import string\n",
    "import pandas as pd\n",
    "import urllib.request\n",
    "import re\n",
    "import numpy as np\n",
    "import seaborn as sns\n",
    "import matplotlib.pyplot as plt\n",
    "import spacy\n",
    "import time\n",
    "from sklearn.neighbors import NearestNeighbors\n",
    "from sklearn.preprocessing import StandardScaler\n",
    "from sklearn.cluster import AgglomerativeClustering\n",
    "import scipy.cluster.hierarchy as sch\n",
    "\n",
    "# Data source we are going to scrape for results\n",
    "data_url = 'https://en.wikisource.org/wiki/Portal:State_of_the_Union_Speeches_by_United_States_Presidents'\n",
    "\n",
    "link_list = []\n",
    "\n",
    "# extract the text of a speech from a URL\n",
    "# text is extracted in a list of paragraphs (strings) for each speech\n",
    "def get_speech(url):\n",
    "    return([ p.text.strip() for p in BeautifulSoup(urllib.request.urlopen(url)).find_all(\"p\") if \\\n",
    "             'This work is in the public domain in the United States because it is a work of the United States federal government' \\\n",
    "             not in p.text.strip()])\n",
    "\n",
    "# Make a frequency count by distinct values of \n",
    "# column(s) listed in 'groupbyvars'\n",
    "# Returns pandas dataframe\n",
    "def tidy_count(df,groupbyvars):\n",
    "    return(df.groupby(groupbyvars).size().reset_index().\\\n",
    "        rename(columns={0: \"n\"}).sort_values('n',ascending=False).reset_index(drop=True))"
   ]
  },
  {
   "cell_type": "markdown",
   "metadata": {},
   "source": [
    "## Web Scraping"
   ]
  },
  {
   "cell_type": "code",
   "execution_count": 4,
   "metadata": {},
   "outputs": [],
   "source": [
    "resp = urllib.request.urlopen(data_url)\n",
    "soup = BeautifulSoup(resp, from_encoding=resp.info().get_param('charset'))\n",
    "\n",
    "# Get all links to state of the union addresses from \n",
    "for link in soup.find_all('a', href=True):\n",
    "    if \"union_address\" in link['href'].lower() or \"union_speech\" in link['href'].lower() \\\n",
    "        and \"portal\" not in link['href'].lower() and \"#\" not in link['href'].lower():\n",
    "        link_list.append(link['href'])\n",
    "\n",
    "# Note that I am storing these speeches as lists of paragraphs (strings) for readability\n",
    "speeches = [get_speech('https://en.wikisource.org' + link) for link in link_list]\n",
    "# Extract presidents names from link text\n",
    "presidents = [ link.replace('%','/').split('/')[2].replace('_',' ') for link in link_list ]\n",
    "\n",
    "# Extract state of the union text entries so we can extract the date\n",
    "sou_entries = []\n",
    "for item in soup.find_all('li'):\n",
    "    if 'union' in item.text.strip().lower() and '(' in  item.text.strip().lower():\n",
    "        sou_entries.append(item.text.strip())\n",
    "\n",
    "speeches_pd = pd.DataFrame({\n",
    "                'president' : presidents,\n",
    "                'speech' : speeches,\n",
    "                'year' : [int(re.findall('\\d+',item)[1]) for item in sou_entries ]} )"
   ]
  },
  {
   "cell_type": "code",
   "execution_count": 5,
   "metadata": {},
   "outputs": [
    {
     "data": {
      "text/plain": [
       "232"
      ]
     },
     "execution_count": 5,
     "metadata": {},
     "output_type": "execute_result"
    }
   ],
   "source": [
    "len(speeches_pd)"
   ]
  },
  {
   "cell_type": "code",
   "execution_count": 7,
   "metadata": {},
   "outputs": [
    {
     "data": {
      "text/html": [
       "<div>\n",
       "<style scoped>\n",
       "    .dataframe tbody tr th:only-of-type {\n",
       "        vertical-align: middle;\n",
       "    }\n",
       "\n",
       "    .dataframe tbody tr th {\n",
       "        vertical-align: top;\n",
       "    }\n",
       "\n",
       "    .dataframe thead th {\n",
       "        text-align: right;\n",
       "    }\n",
       "</style>\n",
       "<table border=\"1\" class=\"dataframe\">\n",
       "  <thead>\n",
       "    <tr style=\"text-align: right;\">\n",
       "      <th></th>\n",
       "      <th>president</th>\n",
       "      <th>speech</th>\n",
       "      <th>year</th>\n",
       "    </tr>\n",
       "  </thead>\n",
       "  <tbody>\n",
       "    <tr>\n",
       "      <th>219</th>\n",
       "      <td>George W. Bush</td>\n",
       "      <td>[Thank you very much. And tonight, I have a hi...</td>\n",
       "      <td>2007</td>\n",
       "    </tr>\n",
       "    <tr>\n",
       "      <th>66</th>\n",
       "      <td>Franklin Pierce</td>\n",
       "      <td>[Fellow-Citizens of the Senate and of the Hous...</td>\n",
       "      <td>1855</td>\n",
       "    </tr>\n",
       "    <tr>\n",
       "      <th>9</th>\n",
       "      <td>John Adams</td>\n",
       "      <td>[Gentlemen of the Senate and Gentlemen of the ...</td>\n",
       "      <td>1798</td>\n",
       "    </tr>\n",
       "    <tr>\n",
       "      <th>170</th>\n",
       "      <td>Dwight D. Eisenhower</td>\n",
       "      <td>[Mr. President, Mr. Speaker, Members of the 86...</td>\n",
       "      <td>1959</td>\n",
       "    </tr>\n",
       "    <tr>\n",
       "      <th>15</th>\n",
       "      <td>Thomas Jefferson</td>\n",
       "      <td>[To the Senate and House of Representatives of...</td>\n",
       "      <td>1804</td>\n",
       "    </tr>\n",
       "  </tbody>\n",
       "</table>\n",
       "</div>"
      ],
      "text/plain": [
       "                president                                             speech  \\\n",
       "219        George W. Bush  [Thank you very much. And tonight, I have a hi...   \n",
       "66        Franklin Pierce  [Fellow-Citizens of the Senate and of the Hous...   \n",
       "9              John Adams  [Gentlemen of the Senate and Gentlemen of the ...   \n",
       "170  Dwight D. Eisenhower  [Mr. President, Mr. Speaker, Members of the 86...   \n",
       "15       Thomas Jefferson  [To the Senate and House of Representatives of...   \n",
       "\n",
       "     year  \n",
       "219  2007  \n",
       "66   1855  \n",
       "9    1798  \n",
       "170  1959  \n",
       "15   1804  "
      ]
     },
     "execution_count": 7,
     "metadata": {},
     "output_type": "execute_result"
    }
   ],
   "source": [
    "#speeches_pd['speech_num'] = speeches_pd.index # for joining\n",
    "speeches_pd.sample(n=5,random_state=42)"
   ]
  },
  {
   "cell_type": "markdown",
   "metadata": {},
   "source": [
    "## Preprocessing"
   ]
  },
  {
   "cell_type": "markdown",
   "metadata": {},
   "source": [
    "Clean text (remove stop words, convert to lower case, remove non-alphabetic content)"
   ]
  },
  {
   "cell_type": "code",
   "execution_count": 11,
   "metadata": {},
   "outputs": [],
   "source": [
    "nlp = spacy.load('en_core_web_lg', disable=['parser', 'ner']) # disabling the parser makes it run faster\n",
    "#nlp = spacy.load('en_core_web_lg',disable=['parser', 'ner'])\n",
    "\n",
    "## Workaround for stopwords bug in en_core_web_lg model\n",
    "## only need if you are using the .is_stop spacy attribute\n",
    "for word in nlp.Defaults.stop_words:\n",
    "     lex = nlp.vocab[word]\n",
    "     lex.is_stop = True\n",
    "\n",
    "# Cleans a string by tokenizing with spacy, removing trailing and leading non-alphabetic characters,\n",
    "# and then removing stop words and tokens that have no alphabetic characters\n",
    "\n",
    "def spacy_preprocess(text): \n",
    "    text_out = []\n",
    "    # Only keep alphabetic characeters, spaces, and some select characters\n",
    "    for token in nlp(text.lower()):\n",
    "        # remove traililng or leading non-alphabetic text\n",
    "        cleaned_token = token.text.strip(string.punctuation + string.digits + string.whitespace)\n",
    "\n",
    "        # remove stop words and tokens with no alphabetic content\n",
    "        if len(cleaned_token) > 1 and cleaned_token not in nlp.Defaults.stop_words and \\\n",
    "        any(c.isalpha() for c in cleaned_token):\n",
    "            text_out.append(cleaned_token)\n",
    "    return(\" \".join(text_out))\n",
    "\n",
    "# Deprecated - Preprocess pipeline with spacy. \n",
    "# def spacy_preprocess(text): \n",
    "#     text_out = []\n",
    "#     for token in nlp(text.lower()):\n",
    "#         # Get rid of stop words and non-alphanumeric\n",
    "#         if not token.is_stop and token.is_alpha and len(token)>1:\n",
    "#                 text_out.append(token.text)            \n",
    "#     return(nlp(\" \".join(text_out)))"
   ]
  },
  {
   "cell_type": "code",
   "execution_count": 6,
   "metadata": {},
   "outputs": [],
   "source": [
    "# Print stop words\n",
    "#print(nlp.Defaults.stop_words)"
   ]
  },
  {
   "cell_type": "code",
   "execution_count": 19,
   "metadata": {},
   "outputs": [
    {
     "name": "stdout",
     "output_type": "stream",
     "text": [
      "False\n",
      "True\n",
      "False\n"
     ]
    }
   ],
   "source": [
    "for token in nlp('The the weather'):\n",
    "    print(token.is_stop)"
   ]
  },
  {
   "cell_type": "code",
   "execution_count": 20,
   "metadata": {},
   "outputs": [
    {
     "data": {
      "text/plain": [
       "'dog ran bob saw squirrels vau'"
      ]
     },
     "execution_count": 20,
     "metadata": {},
     "output_type": "execute_result"
    }
   ],
   "source": [
    "# test spacy preprocessing\n",
    "spacy_preprocess('The dog ran into Bob beCause he saw 234 squirrels under VAU15')"
   ]
  },
  {
   "cell_type": "code",
   "execution_count": 21,
   "metadata": {},
   "outputs": [
    {
     "name": "stdout",
     "output_type": "stream",
     "text": [
      "d3.js programming experience battleship program python te minal\n"
     ]
    }
   ],
   "source": [
    "test_sentence = \"\"\"d3.js  Programming ### experience$ /battleship# I\\ \n",
    "    * also program #and in -python- - sometimes## te\\rminal// \"\"\"\n",
    "\n",
    "print(spacy_preprocess(test_sentence))"
   ]
  },
  {
   "cell_type": "markdown",
   "metadata": {},
   "source": [
    "## Vectorize Speeches"
   ]
  },
  {
   "cell_type": "markdown",
   "metadata": {},
   "source": [
    "Use spacy's inbuilt embedding model to vectorize our speeches "
   ]
  },
  {
   "cell_type": "code",
   "execution_count": 22,
   "metadata": {},
   "outputs": [
    {
     "name": "stdout",
     "output_type": "stream",
     "text": [
      "Preprocessing time elapsed: 107.23779678344727\n"
     ]
    }
   ],
   "source": [
    "# Each speech is stored as a list of paragraph strings. \n",
    "# Here we join the paragraphs into a single speech string\n",
    "speech_list = [\" \".join(speech) for speech in speeches_pd['speech'].tolist() ]\n",
    "\n",
    "## Pre-process and tokenize our speeches\n",
    "t0 = time.time()\n",
    "\n",
    "# preprocess text of all speeches\n",
    "speeches_cleaned = [ spacy_preprocess(speech) for speech in speech_list]\n",
    "\n",
    "# vectorize and convert to numpy array\n",
    "speeches_embed = np.array([nlp(speech).vector for speech in speeches_cleaned])\n",
    "\n",
    "print('Preprocessing time elapsed: ' + str(time.time()-t0))"
   ]
  },
  {
   "cell_type": "markdown",
   "metadata": {},
   "source": [
    "Do a k-nearest neighbors search to find similar speeches"
   ]
  },
  {
   "cell_type": "code",
   "execution_count": 23,
   "metadata": {},
   "outputs": [],
   "source": [
    "# Find the closest X points\n",
    "# we will find all other points in the dataset\n",
    "k_search_dist = len(speeches_embed)"
   ]
  },
  {
   "cell_type": "code",
   "execution_count": 24,
   "metadata": {},
   "outputs": [
    {
     "name": "stdout",
     "output_type": "stream",
     "text": [
      "k-nearest search time elapsed: 0.037275075912475586\n"
     ]
    }
   ],
   "source": [
    "t0 = time.time()\n",
    "\n",
    "# Scale document vectors (maybe not necessary?)\n",
    "#speechvec_scaler = StandardScaler() # initialize scaler\n",
    "#speeches_scaled = speechvec_scaler.fit_transform(speeches_embed)\n",
    "\n",
    "kn_model = NearestNeighbors()\n",
    "kn_model.fit(speeches_embed)\n",
    "\n",
    "# find X most similar speeches for each speech\n",
    "# We add 1 to k since each speech will be most similar to itself (and we remove that result)\n",
    "dist_speeches, sim_speeches = kn_model.kneighbors(speeches_embed,k_search_dist)\n",
    "\n",
    "print('k-nearest search time elapsed: ' + str(time.time()-t0))"
   ]
  },
  {
   "cell_type": "code",
   "execution_count": 25,
   "metadata": {},
   "outputs": [],
   "source": [
    "# Story nump arrays in pandas\n",
    "dist_speeches_pd =pd.DataFrame(dist_speeches)\n",
    "dist_speeches_pd.insert(0,'speech_num',speeches_pd.index)\n",
    "\n",
    "sim_speeches_pd =pd.DataFrame(sim_speeches)\n",
    "sim_speeches_pd.insert(0,'speech_num',speeches_pd.index)"
   ]
  },
  {
   "cell_type": "code",
   "execution_count": 26,
   "metadata": {},
   "outputs": [],
   "source": [
    "dist_matrix = pd.melt(dist_speeches_pd,\n",
    "    id_vars=['speech_num'],value_vars=list(range(0,k_search_dist))).\\\n",
    "    rename({'variable':'rank','value': 'distance'},axis='columns')\n",
    "\n",
    "sim_matrix = pd.melt(sim_speeches_pd,\n",
    "    id_vars=['speech_num'],value_vars=list(range(0,k_search_dist))).\\\n",
    "    rename({'variable': 'rank','value':'speech_num_match'},axis='columns')"
   ]
  },
  {
   "cell_type": "markdown",
   "metadata": {},
   "source": [
    "Show the most 'similar' state of the union speeches according to spacy document embeddings"
   ]
  },
  {
   "cell_type": "code",
   "execution_count": 27,
   "metadata": {},
   "outputs": [],
   "source": [
    "# Only keep one unique pair of matches and don't keep rows that match the same speech to itself\n",
    "simdist_matrix = sim_matrix[(sim_matrix['speech_num'] != sim_matrix['speech_num_match']) & \\\n",
    "                        (sim_matrix['speech_num'] < sim_matrix['speech_num_match'])].\\\n",
    "    merge(dist_matrix,on=['speech_num','rank']).\\\n",
    "    merge(speeches_pd[['president','year']],left_on='speech_num',right_index=True).\\\n",
    "    merge(speeches_pd[['president','year']],left_on='speech_num_match',right_index=True,suffixes=['','_match']).\\\n",
    "    sort_values('distance')"
   ]
  },
  {
   "cell_type": "markdown",
   "metadata": {},
   "source": [
    "The most similar speeches"
   ]
  },
  {
   "cell_type": "code",
   "execution_count": 29,
   "metadata": {},
   "outputs": [
    {
     "data": {
      "text/html": [
       "<div>\n",
       "<style scoped>\n",
       "    .dataframe tbody tr th:only-of-type {\n",
       "        vertical-align: middle;\n",
       "    }\n",
       "\n",
       "    .dataframe tbody tr th {\n",
       "        vertical-align: top;\n",
       "    }\n",
       "\n",
       "    .dataframe thead th {\n",
       "        text-align: right;\n",
       "    }\n",
       "</style>\n",
       "<table border=\"1\" class=\"dataframe\">\n",
       "  <thead>\n",
       "    <tr style=\"text-align: right;\">\n",
       "      <th></th>\n",
       "      <th>speech_num</th>\n",
       "      <th>rank</th>\n",
       "      <th>speech_num_match</th>\n",
       "      <th>distance</th>\n",
       "      <th>president</th>\n",
       "      <th>year</th>\n",
       "      <th>president_match</th>\n",
       "      <th>year_match</th>\n",
       "    </tr>\n",
       "  </thead>\n",
       "  <tbody>\n",
       "    <tr>\n",
       "      <th>57</th>\n",
       "      <td>97</td>\n",
       "      <td>1</td>\n",
       "      <td>99</td>\n",
       "      <td>0.144875</td>\n",
       "      <td>Grover Cleveland</td>\n",
       "      <td>1886</td>\n",
       "      <td>Grover Cleveland</td>\n",
       "      <td>1888</td>\n",
       "    </tr>\n",
       "    <tr>\n",
       "      <th>40</th>\n",
       "      <td>66</td>\n",
       "      <td>1</td>\n",
       "      <td>67</td>\n",
       "      <td>0.160682</td>\n",
       "      <td>Franklin Pierce</td>\n",
       "      <td>1855</td>\n",
       "      <td>Franklin Pierce</td>\n",
       "      <td>1856</td>\n",
       "    </tr>\n",
       "    <tr>\n",
       "      <th>56</th>\n",
       "      <td>96</td>\n",
       "      <td>1</td>\n",
       "      <td>97</td>\n",
       "      <td>0.162154</td>\n",
       "      <td>Grover Cleveland</td>\n",
       "      <td>1885</td>\n",
       "      <td>Grover Cleveland</td>\n",
       "      <td>1886</td>\n",
       "    </tr>\n",
       "    <tr>\n",
       "      <th>90</th>\n",
       "      <td>166</td>\n",
       "      <td>1</td>\n",
       "      <td>167</td>\n",
       "      <td>0.164151</td>\n",
       "      <td>Dwight D. Eisenhower</td>\n",
       "      <td>1955</td>\n",
       "      <td>Dwight D. Eisenhower</td>\n",
       "      <td>1956</td>\n",
       "    </tr>\n",
       "    <tr>\n",
       "      <th>54</th>\n",
       "      <td>92</td>\n",
       "      <td>1</td>\n",
       "      <td>96</td>\n",
       "      <td>0.174653</td>\n",
       "      <td>Chester A. Arthur</td>\n",
       "      <td>1881</td>\n",
       "      <td>Grover Cleveland</td>\n",
       "      <td>1885</td>\n",
       "    </tr>\n",
       "  </tbody>\n",
       "</table>\n",
       "</div>"
      ],
      "text/plain": [
       "    speech_num rank  speech_num_match  distance             president  year  \\\n",
       "57          97    1                99  0.144875      Grover Cleveland  1886   \n",
       "40          66    1                67  0.160682       Franklin Pierce  1855   \n",
       "56          96    1                97  0.162154      Grover Cleveland  1885   \n",
       "90         166    1               167  0.164151  Dwight D. Eisenhower  1955   \n",
       "54          92    1                96  0.174653     Chester A. Arthur  1881   \n",
       "\n",
       "         president_match  year_match  \n",
       "57      Grover Cleveland        1888  \n",
       "40       Franklin Pierce        1856  \n",
       "56      Grover Cleveland        1886  \n",
       "90  Dwight D. Eisenhower        1956  \n",
       "54      Grover Cleveland        1885  "
      ]
     },
     "execution_count": 29,
     "metadata": {},
     "output_type": "execute_result"
    }
   ],
   "source": [
    "simdist_matrix.head(5)"
   ]
  },
  {
   "cell_type": "markdown",
   "metadata": {},
   "source": [
    "Now let's eliminate cases where the president is the same "
   ]
  },
  {
   "cell_type": "code",
   "execution_count": 30,
   "metadata": {},
   "outputs": [
    {
     "data": {
      "text/html": [
       "<div>\n",
       "<style scoped>\n",
       "    .dataframe tbody tr th:only-of-type {\n",
       "        vertical-align: middle;\n",
       "    }\n",
       "\n",
       "    .dataframe tbody tr th {\n",
       "        vertical-align: top;\n",
       "    }\n",
       "\n",
       "    .dataframe thead th {\n",
       "        text-align: right;\n",
       "    }\n",
       "</style>\n",
       "<table border=\"1\" class=\"dataframe\">\n",
       "  <thead>\n",
       "    <tr style=\"text-align: right;\">\n",
       "      <th></th>\n",
       "      <th>speech_num</th>\n",
       "      <th>rank</th>\n",
       "      <th>speech_num_match</th>\n",
       "      <th>distance</th>\n",
       "      <th>president</th>\n",
       "      <th>year</th>\n",
       "      <th>president_match</th>\n",
       "      <th>year_match</th>\n",
       "    </tr>\n",
       "  </thead>\n",
       "  <tbody>\n",
       "    <tr>\n",
       "      <th>54</th>\n",
       "      <td>92</td>\n",
       "      <td>1</td>\n",
       "      <td>96</td>\n",
       "      <td>0.174653</td>\n",
       "      <td>Chester A. Arthur</td>\n",
       "      <td>1881</td>\n",
       "      <td>Grover Cleveland</td>\n",
       "      <td>1885</td>\n",
       "    </tr>\n",
       "    <tr>\n",
       "      <th>185</th>\n",
       "      <td>92</td>\n",
       "      <td>2</td>\n",
       "      <td>97</td>\n",
       "      <td>0.182346</td>\n",
       "      <td>Chester A. Arthur</td>\n",
       "      <td>1881</td>\n",
       "      <td>Grover Cleveland</td>\n",
       "      <td>1886</td>\n",
       "    </tr>\n",
       "    <tr>\n",
       "      <th>302</th>\n",
       "      <td>92</td>\n",
       "      <td>3</td>\n",
       "      <td>99</td>\n",
       "      <td>0.183339</td>\n",
       "      <td>Chester A. Arthur</td>\n",
       "      <td>1881</td>\n",
       "      <td>Grover Cleveland</td>\n",
       "      <td>1888</td>\n",
       "    </tr>\n",
       "    <tr>\n",
       "      <th>53</th>\n",
       "      <td>91</td>\n",
       "      <td>1</td>\n",
       "      <td>100</td>\n",
       "      <td>0.184407</td>\n",
       "      <td>Rutherford B. Hayes</td>\n",
       "      <td>1880</td>\n",
       "      <td>Benjamin Harrison</td>\n",
       "      <td>1889</td>\n",
       "    </tr>\n",
       "    <tr>\n",
       "      <th>433</th>\n",
       "      <td>96</td>\n",
       "      <td>4</td>\n",
       "      <td>100</td>\n",
       "      <td>0.188220</td>\n",
       "      <td>Grover Cleveland</td>\n",
       "      <td>1885</td>\n",
       "      <td>Benjamin Harrison</td>\n",
       "      <td>1889</td>\n",
       "    </tr>\n",
       "  </tbody>\n",
       "</table>\n",
       "</div>"
      ],
      "text/plain": [
       "     speech_num rank  speech_num_match  distance            president  year  \\\n",
       "54           92    1                96  0.174653    Chester A. Arthur  1881   \n",
       "185          92    2                97  0.182346    Chester A. Arthur  1881   \n",
       "302          92    3                99  0.183339    Chester A. Arthur  1881   \n",
       "53           91    1               100  0.184407  Rutherford B. Hayes  1880   \n",
       "433          96    4               100  0.188220     Grover Cleveland  1885   \n",
       "\n",
       "       president_match  year_match  \n",
       "54    Grover Cleveland        1885  \n",
       "185   Grover Cleveland        1886  \n",
       "302   Grover Cleveland        1888  \n",
       "53   Benjamin Harrison        1889  \n",
       "433  Benjamin Harrison        1889  "
      ]
     },
     "execution_count": 30,
     "metadata": {},
     "output_type": "execute_result"
    }
   ],
   "source": [
    "simdist_matrix[simdist_matrix['president'] != simdist_matrix['president_match']].head(5)"
   ]
  },
  {
   "cell_type": "markdown",
   "metadata": {},
   "source": [
    "Most similar speeches to speeches occuring since 1950"
   ]
  },
  {
   "cell_type": "code",
   "execution_count": 33,
   "metadata": {},
   "outputs": [
    {
     "data": {
      "text/html": [
       "<div>\n",
       "<style scoped>\n",
       "    .dataframe tbody tr th:only-of-type {\n",
       "        vertical-align: middle;\n",
       "    }\n",
       "\n",
       "    .dataframe tbody tr th {\n",
       "        vertical-align: top;\n",
       "    }\n",
       "\n",
       "    .dataframe thead th {\n",
       "        text-align: right;\n",
       "    }\n",
       "</style>\n",
       "<table border=\"1\" class=\"dataframe\">\n",
       "  <thead>\n",
       "    <tr style=\"text-align: right;\">\n",
       "      <th></th>\n",
       "      <th>rank</th>\n",
       "      <th>distance</th>\n",
       "      <th>president</th>\n",
       "      <th>year</th>\n",
       "      <th>president_match</th>\n",
       "      <th>year_match</th>\n",
       "    </tr>\n",
       "  </thead>\n",
       "  <tbody>\n",
       "    <tr>\n",
       "      <th>103</th>\n",
       "      <td>1</td>\n",
       "      <td>0.241360</td>\n",
       "      <td>Jimmy Carter</td>\n",
       "      <td>1978</td>\n",
       "      <td>Ronald Reagan</td>\n",
       "      <td>1983</td>\n",
       "    </tr>\n",
       "    <tr>\n",
       "      <th>102</th>\n",
       "      <td>1</td>\n",
       "      <td>0.268269</td>\n",
       "      <td>Gerald Ford</td>\n",
       "      <td>1976</td>\n",
       "      <td>Ronald Reagan</td>\n",
       "      <td>1982</td>\n",
       "    </tr>\n",
       "    <tr>\n",
       "      <th>109</th>\n",
       "      <td>1</td>\n",
       "      <td>0.283236</td>\n",
       "      <td>George Herbert Walker Bush</td>\n",
       "      <td>1991</td>\n",
       "      <td>George W. Bush</td>\n",
       "      <td>2006</td>\n",
       "    </tr>\n",
       "    <tr>\n",
       "      <th>229</th>\n",
       "      <td>2</td>\n",
       "      <td>0.295865</td>\n",
       "      <td>Gerald Ford</td>\n",
       "      <td>1976</td>\n",
       "      <td>Jimmy Carter</td>\n",
       "      <td>1978</td>\n",
       "    </tr>\n",
       "    <tr>\n",
       "      <th>334</th>\n",
       "      <td>3</td>\n",
       "      <td>0.296978</td>\n",
       "      <td>Dwight D. Eisenhower</td>\n",
       "      <td>1959</td>\n",
       "      <td>John F. Kennedy</td>\n",
       "      <td>1961</td>\n",
       "    </tr>\n",
       "    <tr>\n",
       "      <th>345</th>\n",
       "      <td>3</td>\n",
       "      <td>0.300600</td>\n",
       "      <td>Gerald Ford</td>\n",
       "      <td>1976</td>\n",
       "      <td>Ronald Reagan</td>\n",
       "      <td>1983</td>\n",
       "    </tr>\n",
       "    <tr>\n",
       "      <th>490</th>\n",
       "      <td>4</td>\n",
       "      <td>0.303192</td>\n",
       "      <td>Bill Clinton</td>\n",
       "      <td>1998</td>\n",
       "      <td>Barack Obama</td>\n",
       "      <td>2013</td>\n",
       "    </tr>\n",
       "    <tr>\n",
       "      <th>230</th>\n",
       "      <td>2</td>\n",
       "      <td>0.308841</td>\n",
       "      <td>Ronald Reagan</td>\n",
       "      <td>1984</td>\n",
       "      <td>George Herbert Walker Bush</td>\n",
       "      <td>1989</td>\n",
       "    </tr>\n",
       "    <tr>\n",
       "      <th>335</th>\n",
       "      <td>3</td>\n",
       "      <td>0.311126</td>\n",
       "      <td>Dwight D. Eisenhower</td>\n",
       "      <td>1960</td>\n",
       "      <td>John F. Kennedy</td>\n",
       "      <td>1961</td>\n",
       "    </tr>\n",
       "    <tr>\n",
       "      <th>749</th>\n",
       "      <td>6</td>\n",
       "      <td>0.311279</td>\n",
       "      <td>Bill Clinton</td>\n",
       "      <td>1998</td>\n",
       "      <td>Barack Obama</td>\n",
       "      <td>2015</td>\n",
       "    </tr>\n",
       "  </tbody>\n",
       "</table>\n",
       "</div>"
      ],
      "text/plain": [
       "    rank  distance                   president  year  \\\n",
       "103    1  0.241360                Jimmy Carter  1978   \n",
       "102    1  0.268269                 Gerald Ford  1976   \n",
       "109    1  0.283236  George Herbert Walker Bush  1991   \n",
       "229    2  0.295865                 Gerald Ford  1976   \n",
       "334    3  0.296978        Dwight D. Eisenhower  1959   \n",
       "345    3  0.300600                 Gerald Ford  1976   \n",
       "490    4  0.303192                Bill Clinton  1998   \n",
       "230    2  0.308841               Ronald Reagan  1984   \n",
       "335    3  0.311126        Dwight D. Eisenhower  1960   \n",
       "749    6  0.311279                Bill Clinton  1998   \n",
       "\n",
       "                president_match  year_match  \n",
       "103               Ronald Reagan        1983  \n",
       "102               Ronald Reagan        1982  \n",
       "109              George W. Bush        2006  \n",
       "229                Jimmy Carter        1978  \n",
       "334             John F. Kennedy        1961  \n",
       "345               Ronald Reagan        1983  \n",
       "490                Barack Obama        2013  \n",
       "230  George Herbert Walker Bush        1989  \n",
       "335             John F. Kennedy        1961  \n",
       "749                Barack Obama        2015  "
      ]
     },
     "execution_count": 33,
     "metadata": {},
     "output_type": "execute_result"
    }
   ],
   "source": [
    "simdist_matrix[(simdist_matrix['president'] != simdist_matrix['president_match']) & \\\n",
    "              ((simdist_matrix['year'] >= 1950 ))].head(10).\\\n",
    "            drop(['speech_num','speech_num_match'],axis=1)"
   ]
  },
  {
   "cell_type": "markdown",
   "metadata": {},
   "source": [
    "Most dissimilar speeches since 1900. Note 1943 and 1944 by FDR are very dissimilar."
   ]
  },
  {
   "cell_type": "code",
   "execution_count": 34,
   "metadata": {},
   "outputs": [
    {
     "data": {
      "text/html": [
       "<div>\n",
       "<style scoped>\n",
       "    .dataframe tbody tr th:only-of-type {\n",
       "        vertical-align: middle;\n",
       "    }\n",
       "\n",
       "    .dataframe tbody tr th {\n",
       "        vertical-align: top;\n",
       "    }\n",
       "\n",
       "    .dataframe thead th {\n",
       "        text-align: right;\n",
       "    }\n",
       "</style>\n",
       "<table border=\"1\" class=\"dataframe\">\n",
       "  <thead>\n",
       "    <tr style=\"text-align: right;\">\n",
       "      <th></th>\n",
       "      <th>rank</th>\n",
       "      <th>distance</th>\n",
       "      <th>president</th>\n",
       "      <th>year</th>\n",
       "      <th>president_match</th>\n",
       "      <th>year_match</th>\n",
       "    </tr>\n",
       "  </thead>\n",
       "  <tbody>\n",
       "    <tr>\n",
       "      <th>26786</th>\n",
       "      <td>231</td>\n",
       "      <td>1.400909</td>\n",
       "      <td>Herbert Hoover</td>\n",
       "      <td>1931</td>\n",
       "      <td>Franklin Delano Roosevelt</td>\n",
       "      <td>1942</td>\n",
       "    </tr>\n",
       "    <tr>\n",
       "      <th>26771</th>\n",
       "      <td>231</td>\n",
       "      <td>1.385296</td>\n",
       "      <td>Woodrow Wilson</td>\n",
       "      <td>1916</td>\n",
       "      <td>Franklin Delano Roosevelt</td>\n",
       "      <td>1942</td>\n",
       "    </tr>\n",
       "    <tr>\n",
       "      <th>26772</th>\n",
       "      <td>231</td>\n",
       "      <td>1.383190</td>\n",
       "      <td>Woodrow Wilson</td>\n",
       "      <td>1917</td>\n",
       "      <td>Harry S. Truman</td>\n",
       "      <td>1946</td>\n",
       "    </tr>\n",
       "    <tr>\n",
       "      <th>26484</th>\n",
       "      <td>229</td>\n",
       "      <td>1.376139</td>\n",
       "      <td>Franklin Delano Roosevelt</td>\n",
       "      <td>1942</td>\n",
       "      <td>Harry S. Truman</td>\n",
       "      <td>1946</td>\n",
       "    </tr>\n",
       "    <tr>\n",
       "      <th>26785</th>\n",
       "      <td>231</td>\n",
       "      <td>1.374885</td>\n",
       "      <td>Herbert Hoover</td>\n",
       "      <td>1930</td>\n",
       "      <td>Franklin Delano Roosevelt</td>\n",
       "      <td>1942</td>\n",
       "    </tr>\n",
       "    <tr>\n",
       "      <th>26635</th>\n",
       "      <td>230</td>\n",
       "      <td>1.354937</td>\n",
       "      <td>Herbert Hoover</td>\n",
       "      <td>1931</td>\n",
       "      <td>Donald Trump</td>\n",
       "      <td>2019</td>\n",
       "    </tr>\n",
       "    <tr>\n",
       "      <th>26621</th>\n",
       "      <td>230</td>\n",
       "      <td>1.354232</td>\n",
       "      <td>Woodrow Wilson</td>\n",
       "      <td>1916</td>\n",
       "      <td>Donald Trump</td>\n",
       "      <td>2018</td>\n",
       "    </tr>\n",
       "    <tr>\n",
       "      <th>26463</th>\n",
       "      <td>229</td>\n",
       "      <td>1.352068</td>\n",
       "      <td>Woodrow Wilson</td>\n",
       "      <td>1916</td>\n",
       "      <td>Donald Trump</td>\n",
       "      <td>2019</td>\n",
       "    </tr>\n",
       "    <tr>\n",
       "      <th>26478</th>\n",
       "      <td>229</td>\n",
       "      <td>1.343565</td>\n",
       "      <td>Herbert Hoover</td>\n",
       "      <td>1931</td>\n",
       "      <td>Donald Trump</td>\n",
       "      <td>2018</td>\n",
       "    </tr>\n",
       "    <tr>\n",
       "      <th>26309</th>\n",
       "      <td>228</td>\n",
       "      <td>1.330011</td>\n",
       "      <td>Woodrow Wilson</td>\n",
       "      <td>1916</td>\n",
       "      <td>Barack Obama</td>\n",
       "      <td>2016</td>\n",
       "    </tr>\n",
       "  </tbody>\n",
       "</table>\n",
       "</div>"
      ],
      "text/plain": [
       "      rank  distance                  president  year  \\\n",
       "26786  231  1.400909             Herbert Hoover  1931   \n",
       "26771  231  1.385296             Woodrow Wilson  1916   \n",
       "26772  231  1.383190             Woodrow Wilson  1917   \n",
       "26484  229  1.376139  Franklin Delano Roosevelt  1942   \n",
       "26785  231  1.374885             Herbert Hoover  1930   \n",
       "26635  230  1.354937             Herbert Hoover  1931   \n",
       "26621  230  1.354232             Woodrow Wilson  1916   \n",
       "26463  229  1.352068             Woodrow Wilson  1916   \n",
       "26478  229  1.343565             Herbert Hoover  1931   \n",
       "26309  228  1.330011             Woodrow Wilson  1916   \n",
       "\n",
       "                 president_match  year_match  \n",
       "26786  Franklin Delano Roosevelt        1942  \n",
       "26771  Franklin Delano Roosevelt        1942  \n",
       "26772            Harry S. Truman        1946  \n",
       "26484            Harry S. Truman        1946  \n",
       "26785  Franklin Delano Roosevelt        1942  \n",
       "26635               Donald Trump        2019  \n",
       "26621               Donald Trump        2018  \n",
       "26463               Donald Trump        2019  \n",
       "26478               Donald Trump        2018  \n",
       "26309               Barack Obama        2016  "
      ]
     },
     "execution_count": 34,
     "metadata": {},
     "output_type": "execute_result"
    }
   ],
   "source": [
    "simdist_matrix[((simdist_matrix['year'] >= 1900 ) & (simdist_matrix['year_match'] >= 1900 ))].\\\n",
    "                sort_values('distance',ascending=False).head(10).\\\n",
    "            drop(['speech_num','speech_num_match'],axis=1)"
   ]
  }
 ],
 "metadata": {
  "kernelspec": {
   "display_name": "Python 3",
   "language": "python",
   "name": "python3"
  },
  "language_info": {
   "codemirror_mode": {
    "name": "ipython",
    "version": 3
   },
   "file_extension": ".py",
   "mimetype": "text/x-python",
   "name": "python",
   "nbconvert_exporter": "python",
   "pygments_lexer": "ipython3",
   "version": "3.7.7"
  }
 },
 "nbformat": 4,
 "nbformat_minor": 4
}
